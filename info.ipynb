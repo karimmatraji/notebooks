{
 "cells": [
  {
   "cell_type": "code",
   "execution_count": 1,
   "id": "a8923c35",
   "metadata": {},
   "outputs": [],
   "source": [
    "import pandas as pd\n",
    "from datetime import datetime\n",
    "import os"
   ]
  },
  {
   "cell_type": "code",
   "execution_count": 2,
   "id": "b4d13194",
   "metadata": {},
   "outputs": [
    {
     "data": {
      "text/html": [
       "<div>\n",
       "<style scoped>\n",
       "    .dataframe tbody tr th:only-of-type {\n",
       "        vertical-align: middle;\n",
       "    }\n",
       "\n",
       "    .dataframe tbody tr th {\n",
       "        vertical-align: top;\n",
       "    }\n",
       "\n",
       "    .dataframe thead th {\n",
       "        text-align: right;\n",
       "    }\n",
       "</style>\n",
       "<table border=\"1\" class=\"dataframe\">\n",
       "  <thead>\n",
       "    <tr style=\"text-align: right;\">\n",
       "      <th></th>\n",
       "      <th>ID</th>\n",
       "      <th>Source</th>\n",
       "      <th>Geolocation</th>\n",
       "      <th>Location</th>\n",
       "      <th>State</th>\n",
       "      <th>Sightning date</th>\n",
       "      <th>Post date</th>\n",
       "      <th>Abund</th>\n",
       "      <th>Size</th>\n",
       "      <th>Ecological relation/Other strandings</th>\n",
       "      <th>Human interaction/Accident</th>\n",
       "      <th>Age</th>\n",
       "      <th>Sex</th>\n",
       "      <th>Site</th>\n",
       "      <th>URL 1</th>\n",
       "      <th>URL 2</th>\n",
       "      <th>URL 3</th>\n",
       "      <th>URL 4</th>\n",
       "      <th>URL 5</th>\n",
       "    </tr>\n",
       "  </thead>\n",
       "  <tbody>\n",
       "    <tr>\n",
       "      <th>0</th>\n",
       "      <td>1</td>\n",
       "      <td>SM</td>\n",
       "      <td>NaN</td>\n",
       "      <td>Peruíbe</td>\n",
       "      <td>SP</td>\n",
       "      <td>NaN</td>\n",
       "      <td>6/19/2013</td>\n",
       "      <td>10+</td>\n",
       "      <td>NaN</td>\n",
       "      <td>NaN</td>\n",
       "      <td>NaN</td>\n",
       "      <td>NaN</td>\n",
       "      <td>NaN</td>\n",
       "      <td>NaN</td>\n",
       "      <td>https://www.instagram.com/p/paSlHTv-I__/</td>\n",
       "      <td>NaN</td>\n",
       "      <td>NaN</td>\n",
       "      <td>NaN</td>\n",
       "      <td>NaN</td>\n",
       "    </tr>\n",
       "    <tr>\n",
       "      <th>1</th>\n",
       "      <td>2</td>\n",
       "      <td>SM</td>\n",
       "      <td>NaN</td>\n",
       "      <td>Pirui, Arembepe, Bahia</td>\n",
       "      <td>BA</td>\n",
       "      <td>NaN</td>\n",
       "      <td>7/10/2013</td>\n",
       "      <td>NaN</td>\n",
       "      <td>NaN</td>\n",
       "      <td>Scavenging by insects</td>\n",
       "      <td>NaN</td>\n",
       "      <td>NaN</td>\n",
       "      <td>NaN</td>\n",
       "      <td>NaN</td>\n",
       "      <td>https://www.instagram.com/p/bmruL_Qmvh/</td>\n",
       "      <td>NaN</td>\n",
       "      <td>NaN</td>\n",
       "      <td>NaN</td>\n",
       "      <td>NaN</td>\n",
       "    </tr>\n",
       "    <tr>\n",
       "      <th>2</th>\n",
       "      <td>3</td>\n",
       "      <td>SM</td>\n",
       "      <td>Barra De São Miguel, Al</td>\n",
       "      <td>NaN</td>\n",
       "      <td>AL</td>\n",
       "      <td>NaN</td>\n",
       "      <td>1/28/2014</td>\n",
       "      <td>NaN</td>\n",
       "      <td>NaN</td>\n",
       "      <td>NaN</td>\n",
       "      <td>NaN</td>\n",
       "      <td>NaN</td>\n",
       "      <td>NaN</td>\n",
       "      <td>NaN</td>\n",
       "      <td>https://www.instagram.com/p/ju0YFlAVY2/</td>\n",
       "      <td>NaN</td>\n",
       "      <td>NaN</td>\n",
       "      <td>NaN</td>\n",
       "      <td>NaN</td>\n",
       "    </tr>\n",
       "    <tr>\n",
       "      <th>3</th>\n",
       "      <td>4</td>\n",
       "      <td>SM</td>\n",
       "      <td>NaN</td>\n",
       "      <td>Praia dos Carneiros, Tamandaré</td>\n",
       "      <td>PE</td>\n",
       "      <td>NaN</td>\n",
       "      <td>2/8/2014</td>\n",
       "      <td>NaN</td>\n",
       "      <td>NaN</td>\n",
       "      <td>NaN</td>\n",
       "      <td>NaN</td>\n",
       "      <td>NaN</td>\n",
       "      <td>NaN</td>\n",
       "      <td>NaN</td>\n",
       "      <td>https://www.instagram.com/p/kKy6gGKZvS/</td>\n",
       "      <td>NaN</td>\n",
       "      <td>NaN</td>\n",
       "      <td>NaN</td>\n",
       "      <td>NaN</td>\n",
       "    </tr>\n",
       "    <tr>\n",
       "      <th>4</th>\n",
       "      <td>5</td>\n",
       "      <td>SM</td>\n",
       "      <td>NaN</td>\n",
       "      <td>Praia dos Carneiros, Tamandaré</td>\n",
       "      <td>PE</td>\n",
       "      <td>NaN</td>\n",
       "      <td>3/29/2014</td>\n",
       "      <td>NaN</td>\n",
       "      <td>NaN</td>\n",
       "      <td>NaN</td>\n",
       "      <td>NaN</td>\n",
       "      <td>NaN</td>\n",
       "      <td>NaN</td>\n",
       "      <td>NaN</td>\n",
       "      <td>https://www.instagram.com/p/mH-_7ToHGo/</td>\n",
       "      <td>NaN</td>\n",
       "      <td>NaN</td>\n",
       "      <td>NaN</td>\n",
       "      <td>NaN</td>\n",
       "    </tr>\n",
       "  </tbody>\n",
       "</table>\n",
       "</div>"
      ],
      "text/plain": [
       "   ID Source              Geolocation                        Location State  \\\n",
       "0   1     SM                      NaN                         Peruíbe    SP   \n",
       "1   2     SM                      NaN          Pirui, Arembepe, Bahia    BA   \n",
       "2   3     SM  Barra De São Miguel, Al                             NaN    AL   \n",
       "3   4     SM                      NaN  Praia dos Carneiros, Tamandaré    PE   \n",
       "4   5     SM                      NaN  Praia dos Carneiros, Tamandaré    PE   \n",
       "\n",
       "  Sightning date  Post date Abund Size Ecological relation/Other strandings  \\\n",
       "0            NaN  6/19/2013   10+  NaN                                  NaN   \n",
       "1            NaN  7/10/2013   NaN  NaN                Scavenging by insects   \n",
       "2            NaN  1/28/2014   NaN  NaN                                  NaN   \n",
       "3            NaN   2/8/2014   NaN  NaN                                  NaN   \n",
       "4            NaN  3/29/2014   NaN  NaN                                  NaN   \n",
       "\n",
       "  Human interaction/Accident  Age  Sex Site  \\\n",
       "0                        NaN  NaN  NaN  NaN   \n",
       "1                        NaN  NaN  NaN  NaN   \n",
       "2                        NaN  NaN  NaN  NaN   \n",
       "3                        NaN  NaN  NaN  NaN   \n",
       "4                        NaN  NaN  NaN  NaN   \n",
       "\n",
       "                                      URL 1 URL 2 URL 3 URL 4 URL 5  \n",
       "0  https://www.instagram.com/p/paSlHTv-I__/   NaN   NaN   NaN   NaN  \n",
       "1   https://www.instagram.com/p/bmruL_Qmvh/   NaN   NaN   NaN   NaN  \n",
       "2   https://www.instagram.com/p/ju0YFlAVY2/   NaN   NaN   NaN   NaN  \n",
       "3   https://www.instagram.com/p/kKy6gGKZvS/   NaN   NaN   NaN   NaN  \n",
       "4   https://www.instagram.com/p/mH-_7ToHGo/   NaN   NaN   NaN   NaN  "
      ]
     },
     "execution_count": 2,
     "metadata": {},
     "output_type": "execute_result"
    }
   ],
   "source": [
    "# Step 1: Load the CSV file\n",
    "file_path = \"C:/Users/Karim Matragi/Desktop/Project Helper/day_5/day_5/data/Lorena_Instagram(CSV).csv\"\n",
    "df = pd.read_csv(file_path)\n",
    "df.head()"
   ]
  },
  {
   "cell_type": "code",
   "execution_count": 3,
   "id": "cc09722c",
   "metadata": {},
   "outputs": [],
   "source": [
    "# Data Characteristics\n",
    "number_of_rows, number_of_columns = df.shape\n",
    "column_names = df.columns.tolist()\n",
    "data_types = df.dtypes.to_dict()\n",
    "basic_stats = df.describe(include='all').to_dict()\n",
    "missing_values = df.isnull().sum().to_dict()\n"
   ]
  },
  {
   "cell_type": "code",
   "execution_count": 4,
   "id": "a3f7714b",
   "metadata": {},
   "outputs": [],
   "source": [
    "# Metadata Characteristics\n",
    "creation_date = datetime.fromtimestamp(os.path.getctime(file_path)).strftime('%Y-%m-%d %H:%M:%S')\n",
    "modification_date = datetime.fromtimestamp(os.path.getmtime(file_path)).strftime('%Y-%m-%d %H:%M:%S')\n",
    "access_date = datetime.fromtimestamp(os.path.getatime(file_path)).strftime('%Y-%m-%d %H:%M:%S')\n",
    "file_size = os.path.getsize(file_path)\n",
    "author = \"Unknown\"  # If not available in the file or metadata\n",
    "file_path = os.path.abspath(file_path)"
   ]
  },
  {
   "cell_type": "code",
   "execution_count": 5,
   "id": "87cef673",
   "metadata": {},
   "outputs": [],
   "source": [
    "# Assuming delimiter is comma, can be adjusted if needed\n",
    "delimiter = ','\n",
    "encoding = 'utf-8'  # Adjust if necessary"
   ]
  },
  {
   "cell_type": "code",
   "execution_count": 6,
   "id": "83ba88a2",
   "metadata": {
    "scrolled": true
   },
   "outputs": [
    {
     "name": "stdout",
     "output_type": "stream",
     "text": [
      "Number of Rows: 863\n",
      "\n",
      "Number of Columns: 19\n",
      "\n",
      "Column Names: ['ID', 'Source', 'Geolocation', 'Location', 'State', 'Sightning date', 'Post date', 'Abund', 'Size', 'Ecological relation/Other strandings', 'Human interaction/Accident', 'Age', 'Sex', 'Site', 'URL 1', 'URL 2', 'URL 3', 'URL 4', 'URL 5']\n",
      "\n",
      "Data Types: {'ID': dtype('int64'), 'Source': dtype('O'), 'Geolocation': dtype('O'), 'Location': dtype('O'), 'State': dtype('O'), 'Sightning date': dtype('O'), 'Post date': dtype('O'), 'Abund': dtype('O'), 'Size': dtype('O'), 'Ecological relation/Other strandings': dtype('O'), 'Human interaction/Accident': dtype('O'), 'Age': dtype('float64'), 'Sex': dtype('O'), 'Site': dtype('O'), 'URL 1': dtype('O'), 'URL 2': dtype('O'), 'URL 3': dtype('O'), 'URL 4': dtype('O'), 'URL 5': dtype('O')}\n",
      "\n",
      "Missing Values: {'ID': 0, 'Source': 0, 'Geolocation': 235, 'Location': 532, 'State': 1, 'Sightning date': 684, 'Post date': 0, 'Abund': 677, 'Size': 831, 'Ecological relation/Other strandings': 851, 'Human interaction/Accident': 798, 'Age': 861, 'Sex': 810, 'Site': 841, 'URL 1': 0, 'URL 2': 846, 'URL 3': 860, 'URL 4': 861, 'URL 5': 861}\n"
     ]
    }
   ],
   "source": [
    "# Print extracted information\n",
    "print(f\"Number of Rows: {number_of_rows}\")\n",
    "print(f\"\\nNumber of Columns: {number_of_columns}\")\n",
    "print(f\"\\nColumn Names: {column_names}\")\n",
    "print(f\"\\nData Types: {data_types}\")\n",
    "#print(f\"\\nBasic_stats: {basic_stats}\")\n",
    "print(f\"\\nMissing Values: {missing_values}\")\n",
    "\n"
   ]
  },
  {
   "cell_type": "code",
   "execution_count": 7,
   "id": "17cb8131",
   "metadata": {},
   "outputs": [
    {
     "name": "stdout",
     "output_type": "stream",
     "text": [
      "\n",
      "Creation Date: 2024-07-06 12:47:34\n",
      "Modification Date: 2024-07-24 12:54:00\n",
      "Access Date: 2024-07-24 13:01:24\n",
      "\n",
      "File Size: 94141 bytes\n"
     ]
    }
   ],
   "source": [
    "print(f\"\\nCreation Date: {creation_date}\")\n",
    "print(f\"Modification Date: {modification_date}\")\n",
    "print(f\"Access Date: {access_date}\")\n",
    "print(f\"\\nFile Size: {file_size} bytes\")\n"
   ]
  },
  {
   "cell_type": "code",
   "execution_count": 8,
   "id": "12d9245a",
   "metadata": {},
   "outputs": [
    {
     "name": "stdout",
     "output_type": "stream",
     "text": [
      "\n",
      "File Path: C:\\Users\\Karim Matragi\\Desktop\\Project Helper\\day_5\\day_5\\data\\Lorena_Instagram(CSV).csv\n",
      "\n",
      "Author: Unknown\n",
      "\n",
      "Delimiter: ,\n",
      "\n",
      "Encoding: utf-8\n"
     ]
    }
   ],
   "source": [
    "print(f\"\\nFile Path: {file_path}\")\n",
    "print(f\"\\nAuthor: {author}\")\n",
    "print(f\"\\nDelimiter: {delimiter}\")\n",
    "print(f\"\\nEncoding: {encoding}\")"
   ]
  }
 ],
 "metadata": {
  "kernelspec": {
   "display_name": "Python 3 (ipykernel)",
   "language": "python",
   "name": "python3"
  },
  "language_info": {
   "codemirror_mode": {
    "name": "ipython",
    "version": 3
   },
   "file_extension": ".py",
   "mimetype": "text/x-python",
   "name": "python",
   "nbconvert_exporter": "python",
   "pygments_lexer": "ipython3",
   "version": "3.11.5"
  }
 },
 "nbformat": 4,
 "nbformat_minor": 5
}
